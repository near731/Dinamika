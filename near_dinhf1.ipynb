{
 "cells": [
  {
   "cell_type": "markdown",
   "source": [
    "$\\huge{\\textbf{Dinamika HF1 megoldó}} - \\huge{near731}$"
   ],
   "metadata": {}
  },
  {
   "cell_type": "code",
   "execution_count": 205,
   "source": [
    "#Imports\r\n",
    "\r\n",
    "import numpy as np\r\n",
    "import sympy as sp\r\n",
    "import math\r\n",
    "import matplotlib\r\n",
    "import matplotlib.pyplot as plt\r\n",
    "import sympy as sp\r\n",
    "import math\r\n",
    "from sympy import init_printing\r\n",
    "import scipy.linalg as la\r\n",
    "from sympy import *\r\n",
    "from sympy import Matrix, symbols, solve_linear_system\r\n",
    "from sympy.plotting import plot\r\n",
    "from sympy.interactive import printing\r\n",
    "from sympy.printing.latex import LatexPrinter, print_latex\r\n",
    "printing.init_printing(use_latex=True)\r\n"
   ],
   "outputs": [],
   "metadata": {}
  },
  {
   "cell_type": "markdown",
   "source": [
    "$\\Large{\\textbf{Adatok:}}$"
   ],
   "metadata": {}
  },
  {
   "cell_type": "code",
   "execution_count": 206,
   "source": [
    "#Symbols\r\n",
    "\r\n",
    "phi_1,phi_3,l_1,l_2,l_3,omega,omega2_z,omega3_z=sp.symbols(\"phi_1,phi_3,l_1,l_2,l_3,omega,omega2_z,omega3_z\")\r\n",
    "\r\n",
    "#Adatok\r\n",
    "\r\n",
    "phi_1_adat=float(input(\"phi_1=\"))*np.pi/180 #fok\r\n",
    "phi_3_adat=60*np.pi/180 #fok\r\n",
    "l_1_adat=float(input(\"l_1=\")) #m\r\n",
    "l_2_adat=float(input(\"l_2=\")) #m\r\n",
    "l_3_adat=float(input(\"l_3=\")) #m\r\n",
    "omega_z=float(input(\"omega_z\")) #1/s\r\n",
    "omega_adat=sp.Matrix([0,0,omega_z]) #rad/s\r\n",
    "\r\n",
    "data=[(phi_1,phi_1_adat),(phi_3,phi_3_adat),(l_1,l_1_adat),(l_2,l_2_adat),(l_3,l_3_adat),(omega,omega_adat)]"
   ],
   "outputs": [],
   "metadata": {}
  },
  {
   "cell_type": "markdown",
   "source": [
    "$\\Large{\\textbf{2.Feladatrész}}$\r\n",
    "\r\n",
    "\r\n"
   ],
   "metadata": {}
  },
  {
   "cell_type": "code",
   "execution_count": 207,
   "source": [
    "#2.feladatrész\r\n",
    "\r\n",
    "print(\"2.feladatrész\")\r\n",
    "\r\n",
    "v_A=sp.Matrix([0,0,0])\r\n",
    "v_D=sp.Matrix([0,0,0])\r\n",
    "\r\n",
    "#Vectors\r\n",
    "\r\n",
    "r_AB=sp.Matrix([(l_1_adat*np.cos(phi_1_adat)),(l_1_adat*np.sin(phi_1_adat)),0])\r\n",
    "\r\n",
    "r_BC=sp.Matrix([(np.sqrt((l_2_adat)**2-(l_3_adat+l_3_adat*np.cos(phi_3_adat))**2)),\r\n",
    "l_3_adat+l_3_adat*np.cos(phi_3_adat),0])\r\n",
    "\r\n",
    "r_CD=sp.Matrix([-(l_3_adat*np.sin(phi_3_adat)),l_3_adat+l_3_adat*np.cos(phi_3_adat),0])\r\n",
    "\r\n",
    "r_BS2=sp.Matrix([(np.sqrt((l_2_adat)**2-(l_3_adat+l_3_adat*np.cos(phi_3_adat))**2))/2,\r\n",
    "((l_3_adat+l_3_adat*np.cos(phi_3_adat))/2),0])\r\n",
    "\r\n",
    "print(\"\\nHelyvektorok:\")\r\n",
    "\r\n",
    "print(\"\\nr_AB=\")\r\n",
    "display(r_AB)\r\n",
    "print(\"r_BC=\")\r\n",
    "display(r_BC)\r\n",
    "print(\"r_CD=\")\r\n",
    "display(r_CD)\r\n",
    "print(\"r_BS2=\")\r\n",
    "display(r_BS2)\r\n",
    "\r\n",
    "#Velocity\r\n",
    "\r\n",
    "print(\"Sebességek:\")\r\n",
    "\r\n",
    "omega_2=sp.Matrix([0,0,omega2_z])\r\n",
    "omega_3=sp.Matrix([0,0,omega3_z])\r\n",
    "\r\n",
    "v_B=sp.Matrix(v_A+omega_adat.cross(r_AB))\r\n",
    "print(\"\\nv_B(m/s): \")\r\n",
    "display(v_B)\r\n",
    "\r\n",
    "v_C1=sp.Matrix(v_B+omega_2.cross(r_BC))\r\n",
    "v_C2=sp.Matrix(v_D+omega_3.cross(r_CD))\r\n",
    "\r\n",
    "#print(\"\\nv_C1=\",v_C1,\"m/s\")\r\n",
    "#print(\"\\nv_C2=\",v_C2,\"m/s\")\r\n",
    "\r\n",
    "#Equations\r\n",
    "\r\n",
    "ans=solve(v_C1-v_C2, [omega2_z,omega3_z])\r\n",
    "\r\n",
    "#display(ans)\r\n",
    "\r\n",
    "omega2_z=omega2_z.subs(ans)\r\n",
    "omega3_z=omega3_z.subs(ans)\r\n",
    "\r\n",
    "omega_2=omega_2.subs(ans)\r\n",
    "omega_3=omega_3.subs(ans)\r\n",
    "\r\n",
    "v_C=v_C1.subs(ans)\r\n",
    "\r\n",
    "print(\"\\nv_C(m/s):\")\r\n",
    "display(v_C)\r\n",
    "\r\n",
    "print(\"Szögsebességek:\")\r\n",
    "\r\n",
    "print(\"\\nomega_2(1/s):\")\r\n",
    "display(omega_2)\r\n",
    "\r\n",
    "print(\"\\nomega_3(1/s):\")\r\n",
    "display(omega_3)\r\n",
    "\r\n",
    "\r\n",
    "v_S2=sp.Matrix(v_B+omega_2.cross(r_BS2))\r\n",
    "\r\n",
    "print(\"\\nv_S2(m/s):\")\r\n",
    "display(v_S2)\r\n",
    "\r\n",
    "v_S2_abs=sp.sqrt(v_S2.dot(v_S2))\r\n",
    "print(\"|v_S2|=\",v_S2_abs,\"m/s\")"
   ],
   "outputs": [
    {
     "output_type": "stream",
     "name": "stdout",
     "text": [
      "2.feladatrész\n",
      "\n",
      "Helyvektorok:\n",
      "\n",
      "r_AB=\n"
     ]
    },
    {
     "output_type": "display_data",
     "data": {
      "text/latex": [
       "$\\displaystyle \\left[\\begin{matrix}0.025357095704442\\\\0.054378467222199\\\\0\\end{matrix}\\right]$"
      ],
      "image/png": "[encoded data removed]",
      "text/plain": [
       "⎡0.025357095704442⎤\n",
       "⎢                 ⎥\n",
       "⎢0.054378467222199⎥\n",
       "⎢                 ⎥\n",
       "⎣        0        ⎦"
      ]
     },
     "metadata": {}
    },
    {
     "output_type": "stream",
     "name": "stdout",
     "text": [
      "r_BC=\n"
     ]
    },
    {
     "output_type": "display_data",
     "data": {
      "text/latex": [
       "$\\displaystyle \\left[\\begin{matrix}0.19615045245933\\\\0.075\\\\0\\end{matrix}\\right]$"
      ],
      "image/png": "[encoded data removed]",
      "text/plain": [
       "⎡0.19615045245933⎤\n",
       "⎢                ⎥\n",
       "⎢     0.075      ⎥\n",
       "⎢                ⎥\n",
       "⎣       0        ⎦"
      ]
     },
     "metadata": {}
    },
    {
     "output_type": "stream",
     "name": "stdout",
     "text": [
      "r_CD=\n"
     ]
    },
    {
     "output_type": "display_data",
     "data": {
      "text/latex": [
       "$\\displaystyle \\left[\\begin{matrix}-0.0433012701892219\\\\0.075\\\\0\\end{matrix}\\right]$"
      ],
      "image/png": "[encoded data removed]",
      "text/plain": [
       "⎡-0.0433012701892219⎤\n",
       "⎢                   ⎥\n",
       "⎢       0.075       ⎥\n",
       "⎢                   ⎥\n",
       "⎣         0         ⎦"
      ]
     },
     "metadata": {}
    },
    {
     "output_type": "stream",
     "name": "stdout",
     "text": [
      "r_BS2=\n"
     ]
    },
    {
     "output_type": "display_data",
     "data": {
      "text/latex": [
       "$\\displaystyle \\left[\\begin{matrix}0.0980752262296651\\\\0.0375\\\\0\\end{matrix}\\right]$"
      ],
      "image/png": "[encoded data removed]",
      "text/plain": [
       "⎡0.0980752262296651⎤\n",
       "⎢                  ⎥\n",
       "⎢      0.0375      ⎥\n",
       "⎢                  ⎥\n",
       "⎣        0         ⎦"
      ]
     },
     "metadata": {}
    },
    {
     "output_type": "stream",
     "name": "stdout",
     "text": [
      "Sebességek:\n",
      "\n",
      "v_B(m/s): \n"
     ]
    },
    {
     "output_type": "display_data",
     "data": {
      "text/latex": [
       "$\\displaystyle \\left[\\begin{matrix}-0.380649270555393\\\\0.177499669931094\\\\0\\end{matrix}\\right]$"
      ],
      "image/png": "[encoded data removed]",
      "text/plain": [
       "⎡-0.380649270555393⎤\n",
       "⎢                  ⎥\n",
       "⎢0.177499669931094 ⎥\n",
       "⎢                  ⎥\n",
       "⎣        0         ⎦"
      ]
     },
     "metadata": {}
    },
    {
     "output_type": "stream",
     "name": "stdout",
     "text": [
      "\n",
      "v_C(m/s):\n"
     ]
    },
    {
     "output_type": "display_data",
     "data": {
      "text/latex": [
       "$\\displaystyle \\left[\\begin{matrix}-0.256218876708479\\\\-0.147928037439104\\\\0\\end{matrix}\\right]$"
      ],
      "image/png": "[encoded data removed]",
      "text/plain": [
       "⎡-0.256218876708479⎤\n",
       "⎢                  ⎥\n",
       "⎢-0.147928037439104⎥\n",
       "⎢                  ⎥\n",
       "⎣        0         ⎦"
      ]
     },
     "metadata": {}
    },
    {
     "output_type": "stream",
     "name": "stdout",
     "text": [
      "Szögsebességek:\n",
      "\n",
      "omega_2(1/s):\n"
     ]
    },
    {
     "output_type": "display_data",
     "data": {
      "text/latex": [
       "$\\displaystyle \\left[\\begin{matrix}0\\\\0\\\\-1.65907191795885\\end{matrix}\\right]$"
      ],
      "image/png": "[encoded data removed]",
      "text/plain": [
       "⎡        0        ⎤\n",
       "⎢                 ⎥\n",
       "⎢        0        ⎥\n",
       "⎢                 ⎥\n",
       "⎣-1.65907191795885⎦"
      ]
     },
     "metadata": {}
    },
    {
     "output_type": "stream",
     "name": "stdout",
     "text": [
      "\n",
      "omega_3(1/s):\n"
     ]
    },
    {
     "output_type": "display_data",
     "data": {
      "text/latex": [
       "$\\displaystyle \\left[\\begin{matrix}0\\\\0\\\\3.41625168944639\\end{matrix}\\right]$"
      ],
      "image/png": "[encoded data removed]",
      "text/plain": [
       "⎡       0        ⎤\n",
       "⎢                ⎥\n",
       "⎢       0        ⎥\n",
       "⎢                ⎥\n",
       "⎣3.41625168944639⎦"
      ]
     },
     "metadata": {}
    },
    {
     "output_type": "stream",
     "name": "stdout",
     "text": [
      "\n",
      "v_S2(m/s):\n"
     ]
    },
    {
     "output_type": "display_data",
     "data": {
      "text/latex": [
       "$\\displaystyle \\left[\\begin{matrix}-0.318434073631936\\\\0.0147858162459946\\\\0\\end{matrix}\\right]$"
      ],
      "image/png": "[encoded data removed]",
      "text/plain": [
       "⎡-0.318434073631936⎤\n",
       "⎢                  ⎥\n",
       "⎢0.0147858162459946⎥\n",
       "⎢                  ⎥\n",
       "⎣        0         ⎦"
      ]
     },
     "metadata": {}
    },
    {
     "output_type": "stream",
     "name": "stdout",
     "text": [
      "|v_S2|= 0.318777162939709 m/s\n"
     ]
    }
   ],
   "metadata": {}
  },
  {
   "cell_type": "markdown",
   "source": [
    "$\\Large{\\textbf{3.Feladatrész}}$"
   ],
   "metadata": {}
  },
  {
   "cell_type": "code",
   "execution_count": 208,
   "source": [
    "print(\"Sebesség pólus meghatározása:\")\r\n",
    "\r\n",
    "r_AP = (1/(omega_2.dot(omega_2.transpose())))*omega_2.cross(v_B)\r\n",
    "print(\"r_AP:\")\r\n",
    "display(r_AP)\r\n"
   ],
   "outputs": [
    {
     "output_type": "stream",
     "name": "stdout",
     "text": [
      "Sebesség pólus meghatározása:\n",
      "r_AP:\n"
     ]
    },
    {
     "output_type": "display_data",
     "data": {
      "text/latex": [
       "$\\displaystyle \\left[\\begin{matrix}0.106987327077099\\\\0.229435063323658\\\\0\\end{matrix}\\right]$"
      ],
      "image/png": "[encoded data removed]",
      "text/plain": [
       "⎡0.106987327077099⎤\n",
       "⎢                 ⎥\n",
       "⎢0.229435063323658⎥\n",
       "⎢                 ⎥\n",
       "⎣        0        ⎦"
      ]
     },
     "metadata": {}
    }
   ],
   "metadata": {}
  }
 ],
 "metadata": {
  "orig_nbformat": 4,
  "language_info": {
   "name": "python",
   "version": "3.9.7",
   "mimetype": "text/x-python",
   "codemirror_mode": {
    "name": "ipython",
    "version": 3
   },
   "pygments_lexer": "ipython3",
   "nbconvert_exporter": "python",
   "file_extension": ".py"
  },
  "kernelspec": {
   "name": "python3",
   "display_name": "Python 3.9.7 64-bit (windows store)"
  },
  "interpreter": {
   "hash": "455a55cce20ed01e1fa62ff5d92b864060a25bf83d8c32c7db5bf412c986f158"
  }
 },
 "nbformat": 4,
 "nbformat_minor": 2
}