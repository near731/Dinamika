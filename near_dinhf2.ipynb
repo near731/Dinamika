{
 "cells": [
  {
   "cell_type": "markdown",
   "metadata": {},
   "source": [
    "$\\huge{\\textbf{Dinamika HF2 megoldó}} - \\huge{near731}$\n",
    "\n",
    "# Ábra:\n",
    "\n",
    "## $F_x$=$F_y$=0\n",
    "\n",
    "<img src=\"dinhf2_abra.png\"/>"
   ]
  },
  {
   "cell_type": "code",
   "execution_count": 1,
   "metadata": {},
   "outputs": [],
   "source": [
    "#Imports\n",
    "\n",
    "import numpy as np\n",
    "import sympy as sp\n",
    "import math\n",
    "import sympy as sp\n",
    "import math\n",
    "from sympy import init_printing\n",
    "from sympy import *\n",
    "from sympy import Matrix, symbols, solve_linear_system\n",
    "from sympy.interactive import printing\n",
    "from sympy.printing.latex import LatexPrinter, print_latex\n",
    "from sympy import Eq\n",
    "printing.init_printing(use_latex=True)\n"
   ]
  },
  {
   "cell_type": "markdown",
   "metadata": {},
   "source": [
    "$\\Large{\\textbf{Adatok:}}$"
   ]
  },
  {
   "cell_type": "code",
   "execution_count": 2,
   "metadata": {},
   "outputs": [],
   "source": [
    "#Symbols\n",
    "\n",
    "phi_1,phi_3,l_1,l_2,l_3,omega,omega2_z,omega3_z,epszilon_2z,epszilon_3z,m_1,m_2,m_3,g=sp.symbols(\"phi_1,phi_3,l_1,l_2,l_3,omega,omega2_z,omega3_z,epszilon_2z,epszilon_3z,m_1,m_2,m_3,g\")\n",
    "F_Ax,F_Ay,F_Bx,F_By,F_Cx,F_Cy,F_Dx,F_Dy,M_z=sp.symbols(\"F_Ax,F_Ay,F_Bx,F_By,F_Cx,F_Cy,F_Dx,F_Dy,M_z\")\n",
    "theta_S2,theta_S3=sp.symbols(\"theta_S2,theta_S3\")\n",
    "#Adatok\n",
    "\n",
    "phi_1_adat=float(input(\"phi_1=\"))*np.pi/180 #fok\n",
    "phi_3_adat=60*np.pi/180 #fok\n",
    "l_1_adat=float(input(\"l_1=\")) #m\n",
    "l_2_adat=float(input(\"l_2=\")) #m\n",
    "l_3_adat=float(input(\"l_3=\")) #m\n",
    "omega_z=float(input(\"omega_z\")) #1/s\n",
    "omega_adat=sp.Matrix([0,0,omega_z]) #rad/s\n",
    "m_1_adat=float(input(\"m_1=\")) #kg\n",
    "m_2_adat=float(input(\"m_2=\")) #kg\n",
    "m_3_adat=float(input(\"m_3=\")) #kg\n",
    "g_adat=9.81 #m/s^2\n",
    "\n",
    "data=[(phi_1,phi_1_adat),(phi_3,phi_3_adat),(l_1,l_1_adat),(l_2,l_2_adat),(l_3,l_3_adat),(omega,omega_adat),\n",
    "(m_1,m_1_adat),(m_2,m_2_adat),(m_3,m_3_adat),(g,g_adat)]"
   ]
  },
  {
   "cell_type": "markdown",
   "metadata": {},
   "source": [
    "$\\Large{\\textbf{1.Feladatrész}:} \\\\$\n",
    "$\\large{\\textbf{Súlypontok gyorsulásának kiszámítása:}}$"
   ]
  },
  {
   "cell_type": "code",
   "execution_count": 3,
   "metadata": {},
   "outputs": [
    {
     "name": "stdout",
     "output_type": "stream",
     "text": [
      "1.feladatrész\n",
      "\n",
      "a_S1(m/s^2):\n"
     ]
    },
    {
     "data": {
      "image/png": "[encoded data removed]",
      "text/latex": [
       "$\\displaystyle \\left[\\begin{matrix}-0.621248844758828\\\\-1.33227244694388\\\\0\\end{matrix}\\right]$"
      ],
      "text/plain": [
       "⎡-0.621248844758828⎤\n",
       "⎢                  ⎥\n",
       "⎢-1.33227244694388 ⎥\n",
       "⎢                  ⎥\n",
       "⎣        0         ⎦"
      ]
     },
     "metadata": {},
     "output_type": "display_data"
    },
    {
     "name": "stdout",
     "output_type": "stream",
     "text": [
      "|a_S1|: 1.47000000000000 m/s^2\n",
      "\n",
      "a_S2(m/s^2):\n"
     ]
    },
    {
     "data": {
      "image/png": "[encoded data removed]",
      "text/latex": [
       "$\\displaystyle \\left[\\begin{matrix}-1.68667593870938\\\\-2.31210880411456\\\\0\\end{matrix}\\right]$"
      ],
      "text/plain": [
       "⎡-1.68667593870938⎤\n",
       "⎢                 ⎥\n",
       "⎢-2.31210880411456⎥\n",
       "⎢                 ⎥\n",
       "⎣        0        ⎦"
      ]
     },
     "metadata": {},
     "output_type": "display_data"
    },
    {
     "name": "stdout",
     "output_type": "stream",
     "text": [
      "|a_S2|: 2.86194389258162 m/s^2\n",
      "\n",
      "a_S3(m/s^2):\n"
     ]
    },
    {
     "data": {
      "image/png": "[encoded data removed]",
      "text/latex": [
       "$\\displaystyle \\left[\\begin{matrix}-1.75747573047929\\\\-0.145884695070566\\\\0\\end{matrix}\\right]$"
      ],
      "text/plain": [
       "⎡-1.75747573047929 ⎤\n",
       "⎢                  ⎥\n",
       "⎢-0.145884695070566⎥\n",
       "⎢                  ⎥\n",
       "⎣        0         ⎦"
      ]
     },
     "metadata": {},
     "output_type": "display_data"
    },
    {
     "name": "stdout",
     "output_type": "stream",
     "text": [
      "|a_S3|: 1.76352014093390 m/s^2\n"
     ]
    }
   ],
   "source": [
    "#1.feladatrész\n",
    "\n",
    "print(\"1.feladatrész\")\n",
    "\n",
    "v_A=sp.Matrix([0,0,0])\n",
    "v_D=sp.Matrix([0,0,0])\n",
    "\n",
    "#Vectors\n",
    "\n",
    "r_AB=sp.Matrix([(l_1_adat*np.cos(phi_1_adat)),(l_1_adat*np.sin(phi_1_adat)),0])\n",
    "\n",
    "r_BC=sp.Matrix([(np.sqrt((l_2_adat)**2-(l_3_adat+l_3_adat*np.cos(phi_3_adat))**2)),\n",
    "l_3_adat+l_3_adat*np.cos(phi_3_adat),0])\n",
    "\n",
    "r_CD=sp.Matrix([-(l_3_adat*np.sin(phi_3_adat)),l_3_adat+l_3_adat*np.cos(phi_3_adat),0])\n",
    "\n",
    "r_BS2=sp.Matrix([(np.sqrt((l_2_adat)**2-(l_3_adat+l_3_adat*np.cos(phi_3_adat))**2))/2,\n",
    "((l_3_adat+l_3_adat*np.cos(phi_3_adat))/2),0])\n",
    "\n",
    "#Velocity\n",
    "\n",
    "omega_2=sp.Matrix([0,0,omega2_z])\n",
    "omega_3=sp.Matrix([0,0,omega3_z])\n",
    "\n",
    "v_B=sp.Matrix(v_A+omega_adat.cross(r_AB))\n",
    "\n",
    "v_C1=sp.Matrix(v_B+omega_2.cross(r_BC))\n",
    "v_C2=sp.Matrix(v_D+omega_3.cross(r_CD))\n",
    "\n",
    "#Equations\n",
    "\n",
    "ans=solve(v_C1-v_C2, [omega2_z,omega3_z])\n",
    "\n",
    "omega2_z=omega2_z.subs(ans)\n",
    "omega3_z=omega3_z.subs(ans)\n",
    "\n",
    "omega_2=omega_2.subs(ans)\n",
    "omega_3=omega_3.subs(ans)\n",
    "\n",
    "v_C=v_C1.subs(ans)\n",
    "\n",
    "v_S1=sp.Matrix(v_A+omega_adat.cross(r_AB/2))\n",
    "\n",
    "v_S2=sp.Matrix(v_B+omega_2.cross(r_BS2))\n",
    "\n",
    "#Accelaration\n",
    "\n",
    "a_A=sp.Matrix([0,0,0])\n",
    "epszilon_1=sp.Matrix([0,0,0])\n",
    "\n",
    "a_B = -omega_adat.dot(omega_adat) * r_AB\n",
    "\n",
    "#Csak radiális\n",
    "\n",
    "r_DS3 = sp.Matrix([0,l_3_adat,0])\n",
    "v_S3 = omega_3.cross(r_DS3)\n",
    "\n",
    "\n",
    "a_D=sp.Matrix([0,omega3_z**2*l_3_adat-v_S3.norm()**2/(4*l_3_adat),0])\n",
    "\n",
    "epszilon_2=sp.Matrix([0,0,epszilon_2z])\n",
    "epszilon_3=sp.Matrix([0,0,epszilon_3z])\n",
    "\n",
    "a_C1=a_B+epszilon_2.cross(r_BC)-omega_2.dot(omega_2)*r_BC\n",
    "a_C2=a_D+epszilon_3.cross(r_CD)-omega_3.dot(omega_3)*r_CD\n",
    "\n",
    "ans=solve(a_C1-a_C2,[epszilon_2z,epszilon_3z])\n",
    "\n",
    "epszilon_2=epszilon_2.subs(ans)\n",
    "epszilon_3=epszilon_3.subs(ans)\n",
    "\n",
    "epszilon_2z=epszilon_2z.subs(ans)\n",
    "epszilon_3z=epszilon_3z.subs(ans)\n",
    "\n",
    "a_C1=a_C1.subs(ans)\n",
    "\n",
    "#S1 Accelaration\n",
    "\n",
    "a_S1=-omega_adat.dot(omega_adat)*r_AB/2\n",
    "\n",
    "print(\"\\na_S1(m/s^2):\")\n",
    "display(a_S1)\n",
    "\n",
    "a_S1_abs=sp.sqrt(a_S1.dot(a_S1))\n",
    "print(\"|a_S1|:\",a_S1_abs,\"m/s^2\")\n",
    "\n",
    "\n",
    "#S2 Accelaration\n",
    "\n",
    "a_S2=a_B+epszilon_2.cross(r_BS2)-omega_2.dot(omega_2)*r_BS2\n",
    "\n",
    "print(\"\\na_S2(m/s^2):\")\n",
    "display(a_S2)\n",
    "\n",
    "a_S2_abs=sp.sqrt(a_S2.dot(a_S2))\n",
    "print(\"|a_S2|:\",a_S2_abs,\"m/s^2\")\n",
    "\n",
    "#S3 Accelaration\n",
    "\n",
    "a_S3=a_D+epszilon_3.cross(r_DS3)-omega_3.dot(omega_3)*r_DS3\n",
    "\n",
    "print(\"\\na_S3(m/s^2):\")\n",
    "display(a_S3)\n",
    "\n",
    "a_S3_abs=sp.sqrt(a_S3.dot(a_S3))\n",
    "print(\"|a_S3|:\",a_S3_abs,\"m/s^2\")"
   ]
  },
  {
   "cell_type": "markdown",
   "metadata": {},
   "source": [
    "$\\Large{\\textbf{2.Feladatrész}:} \\\\$"
   ]
  },
  {
   "cell_type": "code",
   "execution_count": 4,
   "metadata": {},
   "outputs": [
    {
     "name": "stdout",
     "output_type": "stream",
     "text": [
      "2.feladatrész:\n",
      "\n",
      "Tehetetlenségi nyomatékok:\n",
      "theta_S1= 0.0014999999999999998 [kg*m^2]\n",
      "theta_S2= 0.025724999999999994 [kg*m^2]\n",
      "theta_S3= 0.025000000000000005 [kg*m^2]\n",
      "\n",
      "Egyenletek felírása:\n"
     ]
    },
    {
     "data": {
      "image/png": "[encoded data removed]",
      "text/latex": [
       "$\\displaystyle -3.10624422379414 = F_{Ax} + F_{Bx}$"
      ],
      "text/plain": [
       "-3.10624422379414 = F_Ax + F_Bx"
      ]
     },
     "metadata": {},
     "output_type": "display_data"
    },
    {
     "data": {
      "image/png": "[encoded data removed]",
      "text/latex": [
       "$\\displaystyle -6.66136223471938 = F_{Ay} + F_{By} - 49.05$"
      ],
      "text/plain": [
       "-6.66136223471938 = F_Ay + F_By - 49.05"
      ]
     },
     "metadata": {},
     "output_type": "display_data"
    },
    {
     "data": {
      "image/png": "[encoded data removed]",
      "text/latex": [
       "$\\displaystyle 0 = 0.0271892336110995 F_{Ax} - 0.012678547852221 F_{Ay} - 0.0271892336110995 F_{Bx} + 0.012678547852221 F_{By} + M_{z}$"
      ],
      "text/plain": [
       "0 = 0.0271892336110995⋅F_Ax - 0.012678547852221⋅F_Ay - 0.0271892336110995⋅F_Bx\n",
       " + 0.012678547852221⋅F_By + M_z"
      ]
     },
     "metadata": {},
     "output_type": "display_data"
    },
    {
     "data": {
      "image/png": "[encoded data removed]",
      "text/latex": [
       "$\\displaystyle -11.8067315709657 = - F_{Bx} + F_{Cx}$"
      ],
      "text/plain": [
       "-11.8067315709657 = -F_Bx + F_Cx"
      ]
     },
     "metadata": {},
     "output_type": "display_data"
    },
    {
     "data": {
      "image/png": "[encoded data removed]",
      "text/latex": [
       "$\\displaystyle -16.1847616288019 = - F_{By} + F_{Cy} - 68.67$"
      ],
      "text/plain": [
       "-16.1847616288019 = -F_By + F_Cy - 68.67"
      ]
     },
     "metadata": {},
     "output_type": "display_data"
    },
    {
     "data": {
      "image/png": "[encoded data removed]",
      "text/latex": [
       "$\\displaystyle 0.119517845021619 = - 0.0375 F_{Bx} + 0.0980752262296651 F_{By} - 0.0375 F_{Cx} + 0.0980752262296651 F_{Cy}$"
      ],
      "text/plain": [
       "0.119517845021619 = -0.0375⋅F_Bx + 0.0980752262296651⋅F_By - 0.0375⋅F_Cx + 0.0\n",
       "980752262296651⋅F_Cy"
      ]
     },
     "metadata": {},
     "output_type": "display_data"
    },
    {
     "data": {
      "image/png": "[encoded data removed]",
      "text/latex": [
       "$\\displaystyle -35.1495146095858 = - F_{Cx} + F_{Dx}$"
      ],
      "text/plain": [
       "-35.1495146095858 = -F_Cx + F_Dx"
      ]
     },
     "metadata": {},
     "output_type": "display_data"
    },
    {
     "data": {
      "image/png": "[encoded data removed]",
      "text/latex": [
       "$\\displaystyle -2.91769390141132 = - F_{Cy} + F_{Dy} - 196.2$"
      ],
      "text/plain": [
       "-2.91769390141132 = -F_Cy + F_Dy - 196.2"
      ]
     },
     "metadata": {},
     "output_type": "display_data"
    },
    {
     "data": {
      "image/png": "[encoded data removed]",
      "text/latex": [
       "$\\displaystyle 0.878737865239644 = 0.025 F_{Cx} + 0.0433012701892219 F_{Cy} + 0.05 F_{Dx}$"
      ],
      "text/plain": [
       "0.878737865239644 = 0.025⋅F_Cx + 0.0433012701892219⋅F_Cy + 0.05⋅F_Dx"
      ]
     },
     "metadata": {},
     "output_type": "display_data"
    }
   ],
   "source": [
    "#2.feladatrész\n",
    "\n",
    "print(\"2.feladatrész:\")\n",
    "\n",
    "print(\"\\nTehetetlenségi nyomatékok:\")\n",
    "\n",
    "theta_S1_adat=1/12*m_1_adat*l_1_adat**2\n",
    "print(\"theta_S1=\",theta_S1_adat,\"[kg*m^2]\")\n",
    "\n",
    "theta_S2_adat=1/12*m_2_adat*l_2_adat**2\n",
    "print(\"theta_S2=\",theta_S2_adat,\"[kg*m^2]\")\n",
    "\n",
    "theta_S3_adat=1/2*m_3_adat*l_3_adat**2\n",
    "print(\"theta_S3=\",theta_S3_adat,\"[kg*m^2]\")\n",
    "\n",
    "#1.test\n",
    "\n",
    "eq_1_x=Eq(m_1_adat*a_S1[0],F_Ax+F_Bx)\n",
    "eq_1_y=Eq(m_1_adat*a_S1[1],F_Ay+F_By-m_1_adat*g_adat)\n",
    "eq_1_z=Eq(0,F_Ax*(l_1_adat)/2*np.sin(phi_1_adat)+F_By*(l_1_adat)/2*np.cos(phi_1_adat)-F_Ay*(l_1_adat)/2*np.cos(phi_1_adat)-F_Bx*(l_1_adat)/2*np.sin(phi_1_adat)+M_z)\n",
    "\n",
    "#2.test\n",
    "\n",
    "eq_2_x=Eq(m_2_adat*a_S2[0],F_Cx-F_Bx)\n",
    "eq_2_y=Eq(m_2_adat*a_S2[1],F_Cy-F_By-m_2_adat*g_adat)\n",
    "\n",
    "k_1=(l_3_adat*(1+np.cos(phi_3_adat)))/2\n",
    "k_2=np.sqrt(l_2_adat**2-(2*k_1)**2)/2\n",
    "\n",
    "eq_2_z=Eq(theta_S2_adat*epszilon_2[2],k_1*(-F_Bx-F_Cx)+k_2*(F_By+F_Cy))\n",
    "\n",
    "#3.test\n",
    "\n",
    "eq_3_x=Eq(m_3_adat*a_S3[0],F_Dx-F_Cx)\n",
    "eq_3_y=Eq(m_3_adat*a_S3[1],F_Dy-F_Cy-m_3_adat*g_adat)\n",
    "eq_3_z=Eq(theta_S3_adat*epszilon_3[2],F_Dx*l_3_adat+F_Cy*l_3_adat*np.sin(phi_3_adat)+F_Cx*l_3_adat*np.cos(phi_3_adat))\n",
    "\n",
    "print(\"\\nEgyenletek felírása:\")\n",
    "display(eq_1_x,eq_1_y,eq_1_z,eq_2_x,eq_2_y,eq_2_z,eq_3_x,eq_3_y,eq_3_z)"
   ]
  },
  {
   "cell_type": "markdown",
   "metadata": {},
   "source": [
    "$\\Large{\\textbf{3.Feladatrész}:} \\\\$"
   ]
  },
  {
   "cell_type": "code",
   "execution_count": 5,
   "metadata": {},
   "outputs": [
    {
     "name": "stdout",
     "output_type": "stream",
     "text": [
      "3.feladatrész:\n",
      "\n",
      "Ismeretlen erők és nyomatékok:\n",
      "\n",
      "M_z= 2.52808036791590 [Nm]\n",
      "\n",
      "A csuklókban ébredő erők:\n",
      "\n",
      "|F_B|= 32.1068230045267 [N]\n",
      "\n",
      "|F_C|= 37.9556059665694 [N]\n"
     ]
    }
   ],
   "source": [
    "#3.feladatrész\n",
    "\n",
    "print(\"3.feladatrész:\")\n",
    "\n",
    "ans=solve((eq_1_x,eq_1_y,eq_1_z,eq_2_x,eq_2_y,eq_2_z,eq_3_x,eq_3_y,eq_3_z),(F_Ax,F_Ay,F_Bx,F_By,F_Cx,F_Cy,F_Dx,F_Dy,M_z))\n",
    "\n",
    "print(\"\\nIsmeretlen erők és nyomatékok:\")\n",
    "\n",
    "#print(\"\\nF_Ax[N]=\")\n",
    "F_Ax=F_Ax.subs(ans)\n",
    "#display(F_Ax)\n",
    "\n",
    "#print(\"\\nF_Ay[N]=\")\n",
    "F_Ay=F_Ay.subs(ans)\n",
    "#display(F_Ay)\n",
    "\n",
    "#print(\"\\nF_Bx[N]=\")\n",
    "F_Bx=F_Bx.subs(ans)\n",
    "#display(F_Bx)\n",
    "\n",
    "#print(\"\\nF_By[N]=\")\n",
    "F_By=F_By.subs(ans)\n",
    "#display(F_By)\n",
    "\n",
    "#print(\"\\nF_Cx[N]=\")\n",
    "F_Cx=F_Cx.subs(ans)\n",
    "#display(F_Cx)\n",
    "\n",
    "#print(\"\\nF_Cy[N]=\")\n",
    "F_Cy=F_Cy.subs(ans)\n",
    "#display(F_Cy)\n",
    "\n",
    "#print(\"\\nF_Dx[N]=\")\n",
    "F_Dx=F_Dx.subs(ans)\n",
    "#display(F_Dx)\n",
    "\n",
    "#print(\"\\nF_Dy[N]=\")\n",
    "F_Dy=F_Dy.subs(ans)\n",
    "#display(F_Dy)\n",
    "\n",
    "M_z=M_z.subs(ans)\n",
    "print(\"\\nM_z=\",M_z,\"[Nm]\")\n",
    "\n",
    "print(\"\\nA csuklókban ébredő erők:\")\n",
    "\n",
    "F_B=(F_Bx**2+F_By**2)**(1/2)\n",
    "print(\"\\n|F_B|=\",F_B,\"[N]\")\n",
    "\n",
    "F_C=(F_Cx**2+F_Cy**2)**(1/2)\n",
    "print(\"\\n|F_C|=\",F_C,\"[N]\")\n",
    "\n",
    "\n"
   ]
  },
  {
   "cell_type": "markdown",
   "metadata": {},
   "source": [
    "$\\Large{\\textbf{4.Feladatrész}:} \\\\$"
   ]
  },
  {
   "cell_type": "code",
   "execution_count": 6,
   "metadata": {},
   "outputs": [
    {
     "name": "stdout",
     "output_type": "stream",
     "text": [
      "4.feladatrész:\n",
      "\n",
      "Minimális súrlódás:\n",
      "\n",
      "mu_min= 0.0882071018297116 [-]\n"
     ]
    }
   ],
   "source": [
    "#4.feladatrész\n",
    "\n",
    "print(\"4.feladatrész:\")\n",
    "\n",
    "print(\"\\nMinimális súrlódás:\")\n",
    "\n",
    "mu_min=abs((F_Dx)/(F_Dy))\n",
    "print(\"\\nmu_min=\",mu_min,\"[-]\")"
   ]
  },
  {
   "cell_type": "markdown",
   "metadata": {},
   "source": [
    "$\\Large{\\textbf{5.Feladatrész}:} \\\\$"
   ]
  },
  {
   "cell_type": "code",
   "execution_count": 7,
   "metadata": {},
   "outputs": [
    {
     "name": "stdout",
     "output_type": "stream",
     "text": [
      "5.feladatrész:\n",
      "\n",
      "|v_S1|= 0.210000000000000 [m/s]\n",
      "|v_S2|= 0.318777162939709 [m/s]\n",
      "|v_S3|= 0.170812584472319 [m/s]\n",
      "\n",
      "T= 0.975724447580805 [J]\n",
      "\n",
      "P_1= 13.3433831703512 [W]\n",
      "P_2= -1.01534200161245 [W]\n",
      "P_3= 0 [W]\n",
      "\n",
      "P= 12.3280411687387 [W]\n",
      "\n",
      "T'= 12.3280411687387 [W]\n"
     ]
    }
   ],
   "source": [
    "#5.feladatrész\n",
    "\n",
    "print(\"5.feladatrész:\\n\")\n",
    "\n",
    "v_S1_abs=sp.sqrt(v_S1.dot(v_S1))\n",
    "v_S2_abs=sp.sqrt(v_S2.dot(v_S2))\n",
    "v_S3_abs=sp.sqrt(v_S3.dot(v_S3))\n",
    "\n",
    "print(\"|v_S1|=\",v_S1_abs,\"[m/s]\")\n",
    "\n",
    "print(\"|v_S2|=\",v_S2_abs,\"[m/s]\")\n",
    "\n",
    "print(\"|v_S3|=\",v_S3_abs,\"[m/s]\")\n",
    "\n",
    "T_1=(m_1_adat*v_S1_abs**2+theta_S1_adat*omega_adat[2]**2)/2\n",
    "#print(\"T_1=\",T_1,\"[J]\")\n",
    "\n",
    "T_2=(m_2_adat*v_S2_abs**2+theta_S2_adat*omega_2[2]**2)/2\n",
    "#print(\"T_2=\",T_2,\"[J]\")\n",
    "\n",
    "T_3=(m_3_adat*v_S3_abs**2+theta_S3_adat*omega_3[2]**2)/2\n",
    "#print(\"T_3\",T_3,\"[J]\")\n",
    "\n",
    "T=T_1+T_2+T_3\n",
    "print(\"\\nT=\",T,\"[J]\")\n",
    "\n",
    "M=sp.Matrix([0,0,M_z])\n",
    "G_1=sp.Matrix([0,-m_1_adat*g_adat,0])\n",
    "P_1=v_S1.dot(G_1)+M.dot(omega_adat)\n",
    "\n",
    "print(\"\\nP_1=\",P_1,\"[W]\")\n",
    "\n",
    "G_2=sp.Matrix([0,-m_2_adat*g_adat,0])\n",
    "P_2=G_2.dot(v_S2)\n",
    "\n",
    "print(\"P_2=\",P_2,\"[W]\")\n",
    "\n",
    "G_3=sp.Matrix([0,-m_3_adat*g_adat,0])\n",
    "P_3=G_3.dot(v_S3)\n",
    "\n",
    "print(\"P_3=\",P_3,\"[W]\")\n",
    "\n",
    "P=P_1+P_2+P_3\n",
    "print(\"\\nP=\",P,\"[W]\")\n",
    "\n",
    "T_dot_1=m_1_adat*v_S1.dot(a_S1)+theta_S1_adat*omega_adat.dot(epszilon_1)\n",
    "T_dot_2=m_2_adat*v_S2.dot(a_S2)+theta_S2_adat*omega_2.dot(epszilon_2)\n",
    "T_dot_3=m_3_adat*v_S3.dot(a_S3)+theta_S3_adat*omega_3.dot(epszilon_3)\n",
    "\n",
    "T_dot=T_dot_1+T_dot_2+T_dot_3\n",
    "\n",
    "print(\"\\nT'=\",T_dot,\"[W]\")"
   ]
  },
  {
   "cell_type": "markdown",
   "metadata": {},
   "source": [
    "# Saját felelősségre!\n",
    "\n",
    "# *Ellenőrző:*\n",
    "\n",
    "<img src=\"dinmeg_2.png\"/>"
   ]
  },
  {
   "cell_type": "markdown",
   "metadata": {},
   "source": [
    "$\\huge{\\textbf{Készítette: Németh Áron Imre}}$"
   ]
  }
 ],
 "metadata": {
  "interpreter": {
   "hash": "b75a66b1b1633b113320e146765622ee7bd75f9049d109e8777eece424f43c85"
  },
  "kernelspec": {
   "display_name": "Python 3.9.7 64-bit",
   "language": "python",
   "name": "python3"
  },
  "language_info": {
   "codemirror_mode": {
    "name": "ipython",
    "version": 3
   },
   "file_extension": ".py",
   "mimetype": "text/x-python",
   "name": "python",
   "nbconvert_exporter": "python",
   "pygments_lexer": "ipython3",
   "version": "3.10.0"
  },
  "orig_nbformat": 4
 },
 "nbformat": 4,
 "nbformat_minor": 2
}
